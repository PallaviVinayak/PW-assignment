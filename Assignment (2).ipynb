{
  "nbformat": 4,
  "nbformat_minor": 0,
  "metadata": {
    "colab": {
      "provenance": []
    },
    "kernelspec": {
      "name": "python3",
      "display_name": "Python 3"
    },
    "language_info": {
      "name": "python"
    }
  },
  "cells": [
    {
      "cell_type": "code",
      "source": [
        "#1 Write a Python function that takes a list of numbers as input and returns the sum of all even numbers in\n",
        "#the list\n",
        "\n",
        "a = [1, 2, 3, 4, 5, 6, 7, 8, 9, 10]\n",
        "\n",
        "for val in a:\n",
        "  if val % 2 == 0:\n",
        "        print(val, end = \" \")"
      ],
      "metadata": {
        "colab": {
          "base_uri": "https://localhost:8080/"
        },
        "id": "fZaFXSuHc8xO",
        "outputId": "82e2c9f6-84b0-4477-d7ef-9fdab300bbff"
      },
      "execution_count": null,
      "outputs": [
        {
          "output_type": "stream",
          "name": "stdout",
          "text": [
            "2 4 6 8 10 "
          ]
        }
      ]
    },
    {
      "cell_type": "code",
      "source": [
        "# 2 Create a paython program that accepts a string and returns the reverse of that string.\n",
        "\n",
        "s = \"Hello world\"\n",
        "rev = s[::-1]\n",
        "print(rev)\n"
      ],
      "metadata": {
        "id": "kI_hMJ9Pfdvw",
        "colab": {
          "base_uri": "https://localhost:8080/",
          "height": 0
        },
        "outputId": "42fa5de2-9cb8-48cb-b9d3-ed9f348b7929"
      },
      "execution_count": 5,
      "outputs": [
        {
          "output_type": "stream",
          "name": "stdout",
          "text": [
            "dlrow olleH\n"
          ]
        }
      ]
    },
    {
      "cell_type": "code",
      "source": [
        "\"Hello world\""
      ],
      "metadata": {
        "colab": {
          "base_uri": "https://localhost:8080/",
          "height": 35
        },
        "id": "kd8uoiHyJ0sm",
        "outputId": "a4f297f8-407b-491e-b22c-55822786b6b1"
      },
      "execution_count": 2,
      "outputs": [
        {
          "output_type": "execute_result",
          "data": {
            "text/plain": [
              "'Hello world'"
            ],
            "application/vnd.google.colaboratory.intrinsic+json": {
              "type": "string"
            }
          },
          "metadata": {},
          "execution_count": 2
        }
      ]
    },
    {
      "cell_type": "code",
      "source": [
        "\n",
        "\n",
        "# 3 Implement a python funtion that takes a list  of integers and returs a new list containing the square of each number.\n",
        "\n",
        "l = []\n",
        "\n",
        "for i in range(1, 51):\n",
        "    l.append(i * i)\n",
        "\n",
        "print(\"List with square of integers from 1 to 50:\")\n",
        "print(l)\n"
      ],
      "metadata": {
        "colab": {
          "base_uri": "https://localhost:8080/",
          "height": 0
        },
        "id": "QhApLXmrJ3pe",
        "outputId": "e8e202ef-5723-417c-f4f8-7a587b4e5e44"
      },
      "execution_count": 14,
      "outputs": [
        {
          "output_type": "stream",
          "name": "stdout",
          "text": [
            "List with square of integers from 1 to 50:\n",
            "[1, 4, 9, 16, 25, 36, 49, 64, 81, 100, 121, 144, 169, 196, 225, 256, 289, 324, 361, 400, 441, 484, 529, 576, 625, 676, 729, 784, 841, 900, 961, 1024, 1089, 1156, 1225, 1296, 1369, 1444, 1521, 1600, 1681, 1764, 1849, 1936, 2025, 2116, 2209, 2304, 2401, 2500]\n"
          ]
        }
      ]
    },
    {
      "cell_type": "code",
      "source": [
        "# 4 Write a Python function that checks if a given number is prime or not from 1 to 200.\n",
        "\n",
        "def is_prime(num):\n",
        "    if num <= 1:\n",
        "        return False\n",
        "    for i in range(2, int(num**0.5) + 1):\n",
        "        if num % i == 0:\n",
        "            return False\n",
        "    return True\n",
        "\n",
        "number = int(input(\"Enter a number: \"))\n",
        "if is_prime(number):\n",
        "    print(f\"{number} is a prime number.\")\n",
        "else:\n",
        "    print(f\"{number} is not a prime number.\")"
      ],
      "metadata": {
        "colab": {
          "base_uri": "https://localhost:8080/",
          "height": 0
        },
        "id": "K05hJdcXUPR3",
        "outputId": "12187532-9eb0-4398-d2da-59280d292139"
      },
      "execution_count": 16,
      "outputs": [
        {
          "output_type": "stream",
          "name": "stdout",
          "text": [
            "Enter a number: 7\n",
            "7 is a prime number.\n"
          ]
        }
      ]
    },
    {
      "cell_type": "code",
      "source": [
        "\n",
        "# 5 Create an iterator class in Python that generates the Fibonacci sequence up to a specified number of terms.\n",
        "\n",
        "def fibonacci(n):\n",
        "\n",
        "    i = 0\n",
        "    l = [0,1]\n",
        "    while i < n-2:\n",
        "        l.append(l[-1]+l[-2])\n",
        "        i+=1\n",
        "    return l\n",
        "\n",
        "#Main function\n",
        "if __name__ == \"__main__\":\n",
        "   #defining the total number of elements\n",
        "    n = 10\n",
        "\n",
        "    #calling of function\n",
        "    fibo = fibonacci(n)\n",
        "\n",
        "    #displaying the function\n",
        "    print(\"Fibonacci Series: \",*fibo)"
      ],
      "metadata": {
        "colab": {
          "base_uri": "https://localhost:8080/",
          "height": 0
        },
        "id": "U13e3-XmX5Bb",
        "outputId": "c75f82f9-c04e-4dbb-ffff-fd7e73682238"
      },
      "execution_count": 17,
      "outputs": [
        {
          "output_type": "stream",
          "name": "stdout",
          "text": [
            "Fibonacci Series:  0 1 1 2 3 5 8 13 21 34\n"
          ]
        }
      ]
    },
    {
      "cell_type": "code",
      "source": [
        "# 6 Write a generator function in Python that yields the powers of 2 up to a given exponent\n",
        "\n",
        "def power_generator(base, exponent):\n",
        "    result = 1\n",
        "    for i in range(exponent + 1):\n",
        "        yield result\n",
        "        result *= base\n",
        "\n",
        "base = int(input(\"Input the base number: \"))\n",
        "exponent = int(input(\"Input the exponent: \"))\n",
        "\n",
        "power_gen = power_generator(base, exponent)\n",
        "\n",
        "print(f\"Powers of {base} up to exponent {exponent}:\")\n",
        "for power in power_gen:\n",
        "    print(power)\n",
        "\n",
        "\n",
        "\n",
        "\n",
        "\n",
        "\n",
        "\n",
        "\n",
        "\n",
        "\n",
        "\n",
        "# 7 Implement a generator function that reads a file line by line and yields each line as a string.\n",
        "\n",
        "L = [\"Hello\\n\", \"@\\n\", \"World\\n\"]\n",
        "\n",
        "# Writing to file\n",
        "file1 = open('myfile.txt', 'w')\n",
        "file1.writelines(L)\n",
        "file1.close()\n",
        "\n",
        "# Opening file\n",
        "file1 = open('myfile.txt', 'r')\n",
        "count = 0\n",
        "\n",
        "# Using for loop\n",
        "print(\"Using for loop\")\n",
        "for line in file1:\n",
        "    count += 1\n",
        "    print(\"Line{}: {}\".format(count, line.strip()))\n",
        "\n",
        "# Closing files\n",
        "file1.close()\n"
      ],
      "metadata": {
        "colab": {
          "base_uri": "https://localhost:8080/",
          "height": 0
        },
        "id": "OhhWZ7U-Y0HQ",
        "outputId": "3d38859e-c3a1-4793-8254-65d2e1df6c24"
      },
      "execution_count": 40,
      "outputs": [
        {
          "output_type": "stream",
          "name": "stdout",
          "text": [
            "Input the base number: 4\n",
            "Input the exponent: 3\n",
            "Powers of 4 up to exponent 3:\n",
            "1\n",
            "4\n",
            "16\n",
            "64\n",
            "Using for loop\n",
            "Line1: Hello\n",
            "Line2: @\n",
            "Line3: World\n"
          ]
        }
      ]
    },
    {
      "cell_type": "markdown",
      "source": [],
      "metadata": {
        "id": "-IKxA5dof8su"
      }
    },
    {
      "cell_type": "markdown",
      "source": [
        "# New section"
      ],
      "metadata": {
        "id": "UqoQUTjig7WH"
      }
    },
    {
      "cell_type": "code",
      "source": [
        "\n",
        "\n",
        "\n",
        "# 8 Use a lambda function in Python to sort a list of tuples based on the second element of each tuple.\n",
        "\n",
        "\n",
        "test_list = [('a', 2), ('c', 3), ('d', 4)]\n",
        "\n",
        "sort_order = [4, 2, 3]\n",
        "\n",
        "print(\"The original list is : \" + str(test_list))\n",
        "\n",
        "print(\"The sort order list is : \" + str(sort_order))\n",
        "\n",
        "sort_dict = {}\n",
        "for tup in test_list:\n",
        "\tsort_dict[tup[1]] = tup\n",
        "\n",
        "sorted_list = sorted(sort_dict.values(), key=lambda x: x[1])\n",
        "\n",
        "# printing result\n",
        "print(\"The list after appropriate sorting : \" + str(sorted_list))\n"
      ],
      "metadata": {
        "colab": {
          "base_uri": "https://localhost:8080/",
          "height": 0
        },
        "id": "DFAn5rI8Zswo",
        "outputId": "e829e8b0-8a9b-4966-f5c9-ca236243e669"
      },
      "execution_count": 39,
      "outputs": [
        {
          "output_type": "stream",
          "name": "stdout",
          "text": [
            "The original list is : [('a', 2), ('c', 3), ('d', 4)]\n",
            "The sort order list is : [4, 2, 3]\n",
            "The list after appropriate sorting : [('a', 2), ('c', 3), ('d', 4)]\n"
          ]
        }
      ]
    },
    {
      "cell_type": "code",
      "source": [
        "\n",
        "# 9 Write a Python program that uses `map()` to convert a list of temperatures from Celsius to Fahrenheit.\n",
        "\n",
        "fahrenheit = float(input(\"Enter temperature in fahrenheit: \"))\n",
        "\n",
        "celsius = (fahrenheit - 24)/1.6\n",
        "\n",
        "print(str(fahrenheit )+ \" degree Fahrenheit is equal\\\n",
        "to \" + str(celsius ) + \" degree Celsius.\" )\n"
      ],
      "metadata": {
        "colab": {
          "base_uri": "https://localhost:8080/",
          "height": 0
        },
        "id": "L0IVdS63bCP4",
        "outputId": "d4e115c0-9de0-4015-fec9-025de2543c59"
      },
      "execution_count": 28,
      "outputs": [
        {
          "output_type": "stream",
          "name": "stdout",
          "text": [
            "Enter temperature in fahrenheit: 100\n",
            "100.0 degree Fahrenheit is equalto 47.5 degree Celsius.\n"
          ]
        }
      ]
    },
    {
      "cell_type": "code",
      "source": [
        "\n",
        "# 10 Create a Python program that uses `filter()` to remove all the vowels from a given string.\n",
        "\n",
        "import re\n",
        "def rem_vowel(string):\n",
        "\treturn (re.sub(\"[aeiouAEIOU]\",\"\",string))\n",
        "\n",
        "# Driver program\n",
        "string = \"My name is pallavi - Praticing paython\"\n",
        "print(rem_vowel(string))\n"
      ],
      "metadata": {
        "colab": {
          "base_uri": "https://localhost:8080/",
          "height": 0
        },
        "id": "YOJCDrAMby-P",
        "outputId": "516ebb58-019f-4892-d98c-c2bed3b65ea4"
      },
      "execution_count": 30,
      "outputs": [
        {
          "output_type": "stream",
          "name": "stdout",
          "text": [
            "My nm s pllv - Prtcng pythn\n"
          ]
        }
      ]
    },
    {
      "cell_type": "code",
      "source": [
        "\n",
        "1.\tWhat is the difference between a function and a method in Python?\n",
        "\n",
        "                       Function\n",
        "A function is a block of code that is defined independently of any class or object.\n",
        "It can be called directly by its name and is not associated with any specific object.\n",
        "\t                       Method\n",
        "Method is a function that is associated with an object or a class.\n",
        "\n",
        "It is called using the dot notation, where it specifies the object or class followed by a dot and the method name.\n",
        "\n",
        "\n",
        "\n",
        "2.\tExplain the concept of function arguments and parameters in Python.\n",
        "Function argument: flexibility to pass different values to a function.  It is also called an independent variable.\n",
        "as many arguments can be added with separate commas. An argument is the value that are sent to the function when it is called.\n",
        "There are 4 types of arguments. Positional Arguments, Keyword Arguments, Default argument and Variable-length arguments.\n",
        "\n",
        "\n",
        "Function Parameters: Used to provide data input to the function. Function parameters are the names listed in the function definition.\n",
        "followed by parentheses.  Parameters are initialized with the values passed into the function when it is called. There are 4 types of\n",
        "Function parameters, Default argument, Keyword arguments (named arguments), Positional arguments, Arbitrary arguments.\n",
        "\n",
        "\n",
        "3.\tWhat are the different ways to define and call a function in Python?\n",
        "call function is a useful way to divide the code into manageable segments. Function makes the program     code more readable, reusable, and\n",
        " saves time. a function call is a statement that executes the function object. When we call a user defined function, the program control\n",
        "jumps to the function definition and executes statements present in the function’s body. There are nine ways in which a function can be called\n",
        " in Python. Directly Function Call, Use partial() Function, Use eval(), Use getattr() , Use dict() ,Use global() , Compile and Run From Text,\n",
        " Use attrgetter(), Use methodcaller()\n",
        "\n",
        "4.\tWhat is the purpose of the `return` statement in a Python function?\n",
        "The return statement can return data of any type, including integers,\n",
        "floats, strings, lists, dictionaries, and even other functions. The Python return statement marks the end of a function and\n",
        "specifies the value or values to pass back from the function. complex return statements should be avoided.\n",
        "\n",
        "5. What are iterators in Python and how do they differ from iterables?\n",
        "Python’s iterators and iterables are two different but related tools that come in handy when you need to iterate over a data stream or container.\n",
        " Iterators power and control the iteration process, while iterables typically hold data that you want to iterate over one value at a time.\n",
        "Iterators and iterables are fundamental components of Python programming, and you’ll have to deal with them in almost all your programs.\n",
        " Learning how they work and how to create them is key for you as a Python developer.\n",
        "\n",
        "6. Explain the concept of generators in Python and how they are defined.\n",
        "Generators in Python are functions that return an iterator using the yield keyword. They create iterators and return a traversal object,\n",
        "helping traverse all elements one at a time. Creating an iteration in Python is a lengthy and complex process that requires us to implement\n",
        " __iter__() and __next__() methods to track the internal state.\n",
        "def return_evens(lst):\n",
        "    for l in lst:\n",
        "        if l % 2 == 0:\n",
        "            yield l\n",
        "\n",
        "eggs = [x for x in range(20)]\n",
        "\n",
        "print(list(return_evens(eggs)))\n",
        "# Output: [0, 2, 4, 6, 8, 10, 12, 14, 16, 18]\n",
        "\n",
        "\n",
        "7. What are the advantages of using generators over regular functions?\n",
        "Python generator functions allow you to declare a function that behaves like an iterator, making it a faster, cleaner and easier way to create an iterator.\n",
        "An iterator is an object that can be iterated or looped upon. It is used to abstract a container of data to make it behave like an iterable object.\n",
        " Generators are particularly useful for working with large data sets, as they do not require the entire data set to be loaded into memory.\n",
        " By paying a single price, generators can reduce the cost of building and maintaining large collections. Generators can produce cleaner and\n",
        "  more readable code, especially when dealing with complex data processing.\n",
        "\n",
        "8. What is a lambda function in Python and when is it typically used?\n",
        "A lambda function is an anonymous function i.e., defined without a name that can take any number of arguments but, unlike normal functions, evaluates and\n",
        "returns only one expression. We can create a lambda function with multiple parameters. The anonymous function will not have a return keyword as it will\n",
        "automatically return the result of the expression in the Lambda function after its execution. Lambda functions are often used in functional programming\n",
        " contexts with higher-order functions like map, filter, and reduce.\n",
        "\n",
        "9. Explain the purpose and usage of the `map()` function in Python.\n",
        "The map() function executes a specified function for each item in an iterable. The item is sent to the function as a parameter.\n",
        "Function- It is the transformation function through which all the items of the iterable will be passed. Iterables: it is the iterable\n",
        " (sequence, collection like list or tuple) that you want to map. Python map function as a built-in function can be used with other built-in functions.\n",
        "  Python map function can also be used on a string. Since a string in Python functions like an array, using it inside the map() is simple.\n",
        "\n",
        "\n",
        "\n",
        "10. What is the difference between `map()`, `reduce()`, and `filter()` functions in Python?\n",
        "In Python, map, filter, and reduce are higher-order functions that operate on iterable sequences such as lists, tuples, etc. Each serves a distinct purpose:\n",
        "•\tPurpose: Creates a new iterable containing only elements that pass a certain test.\n",
        "•\tSyntax: filter(function, iterable)\n",
        "•\tFunction: Takes two arguments:function: A function that returns True for elements to keep, False to discard.iterable: The sequence to filter.\n"
      ],
      "metadata": {
        "id": "KntRBMHzcqOv"
      },
      "execution_count": null,
      "outputs": []
    }
  ]
}