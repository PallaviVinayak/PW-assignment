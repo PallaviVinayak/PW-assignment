{
  "cells": [
    {
      "cell_type": "markdown",
      "metadata": {
        "id": "view-in-github",
        "colab_type": "text"
      },
      "source": [
        "<a href=\"https://colab.research.google.com/github/PallaviVinayak/PW-assignment/blob/main/Files%2C_exceptional_handling%2C_logging_and_memory_management_Assignment_Questio.ipynb\" target=\"_parent\"><img src=\"https://colab.research.google.com/assets/colab-badge.svg\" alt=\"Open In Colab\"/></a>"
      ]
    },
    {
      "cell_type": "code",
      "execution_count": null,
      "metadata": {
        "id": "i-UYqAHLUmSs"
      },
      "outputs": [],
      "source": []
    },
    {
      "cell_type": "markdown",
      "metadata": {
        "id": "jiochdywUoDe"
      },
      "source": [
        "1. What is the difference between interpreted and compiled languages?\n",
        "\n",
        "Interpreters run through a program line by line and execute each command. Here, if the author decides he wants to use a different kind of olive oil, he could scratch the old one out and add the new one.\n",
        "\n",
        "Compiled languages are converted directly into machine code that the processor can execute. As a result, they tend to be faster and more efficient to execute than interpreted languages. They also give the developer more control over hardware aspects, like memory management and CPU usage.\n",
        "\n",
        "2. What is exception handling in Python?\n",
        "\n",
        "Exception handling in Python is a mechanism that allows a program to continue running or exit gracefully when an unexpected error occurs.  It allows you to catch exceptions that occur during the execution of a block of code by using a try block to wrap the code that might raise an exception, and an except block to catch and handle the exception.\n",
        "\n",
        "3.What is the purpose of the finally block in exception handling\n",
        "\n",
        "The finally block lets you execute code, regardless of the result of the try- and except blocks.in other words finally block is always executed after leaving the try statement. In case if some exception was not handled by except block, it is re-raised after execution of finally block.\n",
        "\n",
        "4. What is logging in Python0\n",
        "\n",
        "Logging is a means of tracking events that happen when some software runs. Logging is important for software developing, debugging, and running.\n",
        "The process of recording or storing information or messages that help in understanding the behavior and execution of a program.\n",
        "\n",
        "\n",
        "5. What is the significance of the __del__ method in Python ?\n",
        "\n",
        "__del__ is a finalizer. It is called when an object is garbage collected which happens at some point after all references to the object have been deleted. In a simple case this could be right after you say del x or, if x is a local variable, after the function ends.The __del__ method in Python is a powerful tool for managing resource cleanup when objects are destroyed.\n",
        "\n",
        "6.  What is the difference between import and from ... import in Python?\n",
        "import module -\n",
        "It imports entire module.\tTo access one of the functions, we have to specify the name of the module and the name of the function, separated by a dot. This format is called dot notation. The syntax is : <module-name>.<function-name>()\n",
        "Imports all its items in a new namespace with the same name as of the module.\n",
        "\n",
        "from module -\n",
        "It imports single, multiple or all objects from a module.\n",
        "To access functions, there is no need to prefix module's name to imported item name. The syntax is : <function-name> Imports specified items from the module into the current namespace.\n",
        "\n",
        "7.  How can you handle multiple exceptions in Python?\n",
        "\n",
        "Python allows you to catch multiple exceptions in a single 'except' block by specifying them as a tuple. This feature is useful when different exceptions require similar handling logic. In this case, if either 'ExceptionType1' or 'ExceptionType2' is raised, the code within the 'except' block will be executed.\n",
        "\n",
        "\n",
        "8. What is the purpose of the with statement when handling files in Python ?\n",
        "\n",
        "In Python, with statement is used in exception handling to make the code cleaner and much more readable. It simplifies the management of common resources like file streams. Observe the following code example on how the use of with statement makes code cleaner. The with statement itself ensures proper acquisition and release of resources. An exception during the file.write() call in the first implementation can prevent the file from closing properly which may introduce several bugs in the code,i.e. many changes in files do not go into effect until the file is properly closed.\n",
        "\n",
        "9. What is the difference between multithreading and multiprocessing?\n",
        "\n",
        "Multithreading refers to the ability of a processor to execute multiple threads concurrently, where each thread runs a process. Multiprocessing refers to the ability of a system to run multiple processors in parallel, where each processor can run one or more threads.\n",
        "\n",
        "10 .What are the advantages of using logging in a program ?\n",
        "\n",
        "Python logging is a module that allows you to track events that occur while your program is running. You can use logging to record information about errors, warnings, and other events that occur during program execution. And logging is a useful tool for debugging, troubleshooting, and monitoring your program.\n",
        "\n",
        "11. What is memory management in Python?\n",
        "\n",
        "Python memory management is the process of allocating and dealing with memory so that your programs can run efficiently. One advantage of Python, compared to other programming languages, is that it can perform memory management tasks automatically.\n",
        "\n",
        "12. What are the basic steps involved in exception handling in Python?\n",
        "\n",
        "The basic steps involved in exception handling in Python are:\n",
        "Use the try() function\n",
        "This function allows you to catch and handle exceptions that may occur while executing a block of code.\n",
        "Use the except block\n",
        "If an exception occurs in the try block, Python will jump to the except block to handle the error.\n",
        "Use the else block\n",
        "This block runs if no exceptions were raised in the try block.\n",
        "Use the finally block\n",
        "This block can be used to execute code that needs to be run regardless of whether an exception occurs. For example, you can use the finally block to close file resources, close database connections, or display a message at the end of the program.\n",
        "Create custom exceptions\n",
        "You can create custom exceptions by defining a new class that inherits from the built-in “Exception” class. You can use the “raise” keyword to trigger the exception manually.\n",
        "\n",
        "13.  Why is memory management important in Python?\n",
        "\n",
        "Python memory management helps the user to deal with various technologies like development or data analysis. Python memory management refers to the way in which a programming language handles the allocation and deallocation of memory resources. While moving further with this article we will discuss how is memory managed in python, garbage collector, and how to change it, followed by its applications and methods to deallocate memory. Python Memory Management is based on a technique known as reference counting. In this approach, every object in Python has a reference count associated with it. The reference count is the number of variables and other objects that refer to a particular object. When the reference count for an object becomes zero, the object is deleted from memory.\n",
        "\n",
        "14. What is the role of try and except in exception handling?\n",
        "\n",
        "In Python, errors and exceptions can interrupt the execution of program. Python provides try and except blocks to handle situations like this. In case an error occurs in try-block, Python stops executing try block adn jumps to exception block. These blocks let you handle the errors without crashing the program. A Try-Except statement is a code block that allows your program to take alternative actions in case an error occurs. Python will first attempt to execute the code in the try statement (code block 1). If no exception occurs, the except statement is skipped and the execution of the try statement is finished.\n",
        "\n",
        "15. How does Python's garbage collection system work?\n",
        "\n",
        "Garbage collection is a memory management technique used in programming languages to automatically reclaim memory that is no longer accessible or in use by the application. It helps prevent memory leaks, optimize memory usage, and ensure efficient memory allocation for the program.\n",
        "\n",
        "16. What is the purpose of the else block in exception handling?\n",
        "\n",
        "The else keyword is used in conditional statements (if statements), and decides what to do if the condition is False. The ELSE statement specifies that alternate processing is to take place when the conditions of the matching IF statement are not satisfied. The ELSE statement has no parameters. The ELSE statement must be column-aligned with the matching IF statement.\n",
        "\n",
        "17. What are the common logging levels in Python?\n",
        "\n",
        "There are various common types of logging levels, including WARN, ERROR, INFO, DEBUG FATAL and TRACE. Each one serves its unique purpose and should be considered before proceeding with its usage.\n",
        "\n",
        "DEBUG: Detailed information, typically of interest only when diagnosing problems.\n",
        "INFO: Confirmation that things are working as expected.\n",
        "WARNING: An indication that something unexpected happened, or indicative of some problem in the near future (e.g., ‘disk space low’). The software is still working as expected.\n",
        "ERROR: Due to a more serious problem, the software has not been able to perform some function.\n",
        "CRITICAL: A very serious error, indicating that the program itself may be unable to continue running.\n",
        "\n",
        "\n",
        "18. What is the difference between os.fork() and multiprocessing in Python?\n",
        "\n",
        "The only real difference between the os.fork and multiprocessing.Process is portability and library overhead, since os.fork is not supported in windows, and the multiprocessing framework is included to make multiprocessing.Process work. This is because os.fork is called by multiprocessing.Process, as this answer backs up.\n",
        "\n",
        "\n",
        " 19. What is the importance of closing a file in Python?\n",
        "\n",
        " Python does not flush the buffer that is writing data to the file until it is certain you are finished writing, which can be accomplished by closing the file. If you write to a file without closing it, the data will not be saved to the destination file. files are limited resources managed by the operating system, making sure files are closed after use will protect against hard-to-debug issues like running out of file handles or experiencing corrupted data.\n",
        "\n",
        " 20. What is the difference between file.read() and file.readline() in Python?\n",
        "\n",
        " Read method reads the whole file as a single string while readlines segregates each of the line in the file and you then can later on call them line by line.In Python, the `read()` method is used to read a specified number of characters from a file or input stream, while the `readline()` method is used to read a single line from a file or input stream. The `read()` method will read the entire content of the file or stream if no argument is provided, returning a string.\n",
        "\n",
        "21. What is the logging module in Python used for?\n",
        "\n",
        "Python logging is a module that allows you to track events that occur while your program is running. You can use logging to record information about errors, warnings, and other events that occur during program execution. And logging is a useful tool for debugging, troubleshooting, and monitoring your program.\n",
        "\n",
        "\n",
        "22. What is the os module in Python used for in file handling?\n",
        "\n",
        "Python has a built-in os module with methods for interacting with the operating system, like creating files and directories, management of files and directories, input, output, environment variables, process management, etc.\n",
        "The os module can be used to perform different operations on file systems using python. Unlike built-in functions, the os module reads and writes data to the file system in the form of bytes. The methods like open() , write(), read() and close() are also defined in the os module with different specifications and properties compared to in built functions. To use the methods, we can import the os module as follows.\n",
        "\n",
        "23. What are the challenges associated with memory management in Python?\n",
        "\n",
        "The basic problem in managing memory is knowing when to keep the data it contains, and when to throw it away so that the memory can be reused. This sounds easy, but is, in fact, such a hard problem that it is an entire field of study in its own right. The inefficiency in this memory optimization technique is higher and the memory might come as surplus. Moreover, it results in the inefficient use of resources.It has limited dynamic adaptability which means it is not adapted well to the changing memory requirements.\n",
        "\n",
        "24. How do you raise an exception manually in Python?\n",
        "To raise a custom exception, use the raise keyword followed by an instance of your custom exception. Here the divide method raises the 'MyCustomError' when an attempt to divide by zero is made.The raise statement allows you to force an error to occur. You can define both the type of error and the text that prints to the user. Note that the argument to raise must either be an exception instance or a subclass deriving from exception.\n",
        "\n",
        "25. Why is it important to use multithreading in certain applications?\n",
        "Multithreading minimizes the time required for context switching compared to switching between separate processes, as threads within the same process share the same memory space and can switch more quickly. This results in reduced overhead and improved system responsiveness.A web server will utilize multiple threads to simultaneous process requests for data at the same time.\n",
        "\n",
        "\n"
      ]
    },
    {
      "cell_type": "code",
      "execution_count": null,
      "metadata": {
        "id": "g9HGiO3nuOud"
      },
      "outputs": [],
      "source": []
    },
    {
      "cell_type": "code",
      "execution_count": null,
      "metadata": {
        "colab": {
          "base_uri": "https://localhost:8080/"
        },
        "id": "_1KQM6eWuF5w",
        "outputId": "a06a4e18-5b6f-45b5-cf51-c4c4a0e158a9"
      },
      "outputs": [
        {
          "data": {
            "text/plain": [
              "6"
            ]
          },
          "execution_count": 4,
          "metadata": {},
          "output_type": "execute_result"
        }
      ],
      "source": [
        " # 1. How can you open a file for writing in Python and write a string to it?\n",
        "\n",
        "# Opening a file\n",
        "file1 = open('myfile.txt', 'w')\n",
        "L = [\"This is Delhi \\n\", \"This is Paris \\n\", \"This is London \\n\"]\n",
        "s = \"Hello\\n\"\n",
        "file1.write(s)"
      ]
    },
    {
      "cell_type": "code",
      "execution_count": null,
      "metadata": {
        "colab": {
          "base_uri": "https://localhost:8080/"
        },
        "id": "Asqy8K1lsq_U",
        "outputId": "1f7903d7-daff-4661-82c8-ae3e7388e840"
      },
      "outputs": [
        {
          "name": "stdout",
          "output_type": "stream",
          "text": [
            "Output of Read function is \n",
            "Hello \n",
            "This is Delhi \n",
            "This is Paris \n",
            "This is London \n",
            "\n",
            "\n",
            "Output of Readline function is \n",
            "Hello \n",
            "\n",
            "\n",
            "Output of Read(9) function is \n",
            "Hello \n",
            "Th\n",
            "\n",
            "Output of Readline(9) function is \n",
            "Hello \n",
            "\n",
            "Output of Readlines function is \n",
            "['Hello \\n', 'This is Delhi \\n', 'This is Paris \\n', 'This is London \\n']\n",
            "\n"
          ]
        }
      ],
      "source": [
        "#2. Write a Python program to read the contents of a file and print each line?\n",
        "\n",
        "file1 = open(\"myfile.txt\", \"w\")\n",
        "L = [\"This is Delhi \\n\", \"This is Paris \\n\", \"This is London \\n\"]\n",
        "\n",
        "file1.write(\"Hello \\n\")\n",
        "file1.writelines(L)\n",
        "file1.close()\n",
        "\n",
        "file1 = open(\"myfile.txt\", \"r+\")\n",
        "\n",
        "print(\"Output of Read function is \")\n",
        "print(file1.read())\n",
        "print()\n",
        "\n",
        "file1.seek(0)\n",
        "\n",
        "print(\"Output of Readline function is \")\n",
        "print(file1.readline())\n",
        "print()\n",
        "\n",
        "file1.seek(0)\n",
        "\n",
        "print(\"Output of Read(9) function is \")\n",
        "print(file1.read(9))\n",
        "print()\n",
        "\n",
        "file1.seek(0)\n",
        "\n",
        "print(\"Output of Readline(9) function is \")\n",
        "print(file1.readline(9))\n",
        "\n",
        "file1.seek(0)\n",
        "print(\"Output of Readlines function is \")\n",
        "print(file1.readlines())\n",
        "print()\n",
        "file1.close()"
      ]
    },
    {
      "cell_type": "code",
      "execution_count": null,
      "metadata": {
        "colab": {
          "base_uri": "https://localhost:8080/"
        },
        "id": "qbty0VucstWE",
        "outputId": "afd6c887-afdb-4437-da2d-5ee4e84756e9"
      },
      "outputs": [
        {
          "name": "stdout",
          "output_type": "stream",
          "text": [
            "file not found\n"
          ]
        }
      ],
      "source": [
        "# 3. How would you handle a case where the file doesn't exist while trying to open it for reading ?\n",
        "try:\n",
        "\tfile1 = open(\"Myfolder/xyz.txt\")\n",
        "\n",
        "except:\n",
        "\tprint(\"file not found\")\n",
        "\n"
      ]
    },
    {
      "cell_type": "code",
      "execution_count": null,
      "metadata": {
        "colab": {
          "base_uri": "https://localhost:8080/"
        },
        "id": "2i5k046UuSM8",
        "outputId": "736bd5ec-a702-45d7-b439-7d27d044722c"
      },
      "outputs": [
        {
          "name": "stdout",
          "output_type": "stream",
          "text": [
            "Woops! I have deleted the content!\n"
          ]
        }
      ],
      "source": [
        "# 4.  Write a Python script that reads from one file and writes its content to another file?\n",
        "\n",
        "f = open(\"demofile3.txt\", \"w\")\n",
        "f.write(\"Woops! I have deleted the content!\")\n",
        "f.close()\n",
        "\n",
        "#open and read the file after the overwriting:\n",
        "f = open(\"demofile3.txt\", \"r\")\n",
        "print(f.read())"
      ]
    },
    {
      "cell_type": "code",
      "execution_count": null,
      "metadata": {
        "colab": {
          "base_uri": "https://localhost:8080/"
        },
        "id": "g2QSFnNyvUA2",
        "outputId": "8f48ea98-310d-4264-f7e0-4f2b45278dfd"
      },
      "outputs": [
        {
          "name": "stdout",
          "output_type": "stream",
          "text": [
            "Cannot divide by zero\n"
          ]
        }
      ],
      "source": [
        "\n",
        "# 5. How would you catch and handle division by zero error in Python?\n",
        "\n",
        "a = 10\n",
        "b = 0\n",
        "if b == 0:\n",
        "    print(\"Cannot divide by zero\")\n",
        "else:\n",
        "    print(a/b)\n"
      ]
    },
    {
      "cell_type": "code",
      "execution_count": null,
      "metadata": {
        "colab": {
          "base_uri": "https://localhost:8080/"
        },
        "id": "TlLkQNZvwwfj",
        "outputId": "654da9df-1472-40d9-c542-f34e2462aa52"
      },
      "outputs": [
        {
          "name": "stderr",
          "output_type": "stream",
          "text": [
            "ERROR:root:An error occurred\n",
            "Traceback (most recent call last):\n",
            "  File \"<ipython-input-27-6bee0978b47d>\", line 9, in <cell line: 8>\n",
            "    1 / 0\n",
            "ZeroDivisionError: division by zero\n"
          ]
        }
      ],
      "source": [
        " # 6 Write a Python program that logs an error message to a log file when a division by zero exception occurs?\n",
        "\n",
        "import logging\n",
        "\n",
        "# Configure logging\n",
        "logging.basicConfig(level=logging.ERROR)\n",
        "\n",
        "try:\n",
        "    1 / 0\n",
        "except ZeroDivisionError as e:\n",
        "    logging.error(\"An error occurred\", exc_info=True)"
      ]
    },
    {
      "cell_type": "code",
      "execution_count": null,
      "metadata": {
        "colab": {
          "base_uri": "https://localhost:8080/"
        },
        "id": "MVplzfxhxvIK",
        "outputId": "e5c2f215-411a-47cb-c4a6-99de1984dffb"
      },
      "outputs": [
        {
          "name": "stderr",
          "output_type": "stream",
          "text": [
            "DEBUG:root:Harmless debug Message\n",
            "INFO:root:Just an information\n",
            "WARNING:root:Its a Warning\n",
            "ERROR:root:Did you try to divide by zero\n",
            "CRITICAL:root:Internet is down\n"
          ]
        }
      ],
      "source": [
        "# 7.  How do you log information at different levels (INFO, ERROR, WARNING) in Python using the logging module?\n",
        "# importing module\n",
        "import logging\n",
        "\n",
        "# Create and configure logger\n",
        "logging.basicConfig(filename=\"newfile.log\",\n",
        "                    format='%(asctime)s %(message)s',\n",
        "                    filemode='w')\n",
        "\n",
        "# Creating an object\n",
        "logger = logging.getLogger()\n",
        "\n",
        "# Setting the threshold of logger to DEBUG\n",
        "logger.setLevel(logging.DEBUG)\n",
        "\n",
        "# Test messages\n",
        "logger.debug(\"Harmless debug Message\")\n",
        "logger.info(\"Just an information\")\n",
        "logger.warning(\"Its a Warning\")\n",
        "logger.error(\"Did you try to divide by zero\")\n",
        "logger.critical(\"Internet is down\")"
      ]
    },
    {
      "cell_type": "code",
      "execution_count": null,
      "metadata": {
        "colab": {
          "base_uri": "https://localhost:8080/"
        },
        "id": "drHdSmvd0blQ",
        "outputId": "19c0d45e-dd6d-410f-c19f-830cbb662716"
      },
      "outputs": [
        {
          "name": "stdout",
          "output_type": "stream",
          "text": [
            "ZeroDivisionError Occurred and Handled\n"
          ]
        }
      ],
      "source": [
        "# 8. Write a program to handle a file opening error using exception handling?\n",
        "\n",
        "def fun(a):\n",
        "    if a < 4:\n",
        "\n",
        "        b = a/(a-3)\n",
        "    print(\"Value of b = \", b)\n",
        "\n",
        "try:\n",
        "    fun(3)\n",
        "    fun(5)\n",
        "except ZeroDivisionError:\n",
        "    print(\"ZeroDivisionError Occurred and Handled\")\n",
        "except NameError:\n",
        "    print(\"NameError Occurred and Handled\")"
      ]
    },
    {
      "cell_type": "code",
      "execution_count": null,
      "metadata": {
        "colab": {
          "base_uri": "https://localhost:8080/"
        },
        "id": "ZnUrCD0U2MeO",
        "outputId": "4ec35545-95bb-4198-fe48-c94993bc3179"
      },
      "outputs": [
        {
          "data": {
            "text/plain": [
              "<function TextIOWrapper.close()>"
            ]
          },
          "execution_count": 32,
          "metadata": {},
          "output_type": "execute_result"
        }
      ],
      "source": [
        "# 9. How can you read a file line by line and store its content in a list in Python?\n",
        "\n",
        "file1 = open(\"myfile.txt\", \"w\")\n",
        "L = [\"This is Delhi \\n\", \"This is Paris \\n\", \"This is London \\n\"]\n",
        "\n",
        "file1.write(\"Hello \\n\")\n",
        "file1.writelines(L)\n",
        "file1.close"
      ]
    },
    {
      "cell_type": "code",
      "execution_count": null,
      "metadata": {
        "id": "wc29p4Z-2frl"
      },
      "outputs": [],
      "source": [
        "# 10 How can you append data to an existing file in Python?\n",
        "\n",
        "file1 = open(\"myfile.txt\", \"a\")\n",
        "L = [\"This is Delhi \\n\", \"This is Paris \\n\", \"This is London \\n\"]\n",
        "file1.writelines(L)\n",
        "file1.close()\n",
        "file1 = open(\"myfile.txt\", \"r\")\n",
        "print(file1.read())\n",
        "file1.close()\n",
        "\n",
        "\n"
      ]
    },
    {
      "cell_type": "code",
      "execution_count": null,
      "metadata": {
        "colab": {
          "background_save": true,
          "base_uri": "https://localhost:8080/"
        },
        "id": "JmTNUQGo3R41",
        "outputId": "2926bc09-a347-4606-af2c-172fe8207309"
      },
      "outputs": [
        {
          "name": "stdout",
          "output_type": "stream",
          "text": [
            "That word is not a key in the dictionary, try again\n",
            "That word is a key in the dictionary\n",
            "That word is not a key in the dictionary, try again\n",
            "That word is not a key in the dictionary, try again\n",
            "That word is not a key in the dictionary, try again\n"
          ]
        }
      ],
      "source": [
        "# 11. Write a Python program that uses a try-except block to handle an error when attempting to access a dictionary key that doesn't exist?\n",
        "\n",
        "dict = {\"These\": 1, \"are\": 2, \"words\": 3}\n",
        "while True:\n",
        "    try:\n",
        "        w = input(\"Enter a word: \")\n",
        "    except:\n",
        "        print(\"That word is not a key in the dictionary, try again\")\n",
        "    else:\n",
        "        print(\"That word is a key in the dictionary\")"
      ]
    },
    {
      "cell_type": "code",
      "execution_count": null,
      "metadata": {
        "id": "duXZZbisOBSE"
      },
      "outputs": [],
      "source": [
        "# 12 Write a program that demonstrates using multiple except blocks to handle different types of exceptions\n",
        "try:\n",
        "    f = open(filename)\n",
        "\n",
        "except OSError as e:\n",
        "    if e.errno == errno.ENOENT:\n",
        "        logger.error('File not found')\n",
        "    elif e.errno == errno.EACCES:\n",
        "        logger.error('Permission denied')\n",
        "    else:\n",
        "        logger.error('Unexpected error: % d', e.errno)\n"
      ]
    },
    {
      "cell_type": "code",
      "execution_count": null,
      "metadata": {
        "id": "bOlDt96NOxmo"
      },
      "outputs": [],
      "source": [
        "# 13.How would you check if a file exists before attempting to read it in Python?\n",
        "\n",
        "import os\n",
        "\n",
        "# Path\n",
        "path = 'C:/Users/gfg/Desktop/file.txt'\n",
        "\n",
        "# Check whether a path pointing to a file\n",
        "isFile = os.path.isfile(path)\n",
        "print(isFile)\n",
        "\n",
        "# Path\n",
        "path = '/home/User/Desktop/'\n",
        "\n",
        "# Check whether the path is a file\n",
        "isFile = os.path.isfile(path)\n",
        "print(isFile)"
      ]
    },
    {
      "cell_type": "code",
      "execution_count": null,
      "metadata": {
        "id": "jY5BRCtPPPCJ"
      },
      "outputs": [],
      "source": [
        "# 14. Write a program that uses the logging module to log both informational and error messages?\n",
        "\n",
        " import logging\n",
        "import logging.config\n",
        "\n",
        "logging.config.fileConfig('temp.conf')\n",
        "\n",
        "# create logger\n",
        "logger = logging.getLogger('simpleExample')\n",
        "\n",
        "# 'application' code\n",
        "logger.debug('debug message')\n",
        "logger.info('info message')\n",
        "logger.warning('warn message')\n",
        "logger.error('error message')\n",
        "logger.critical('critical message')"
      ]
    },
    {
      "cell_type": "code",
      "execution_count": null,
      "metadata": {
        "id": "hJgYr83QPhBV"
      },
      "outputs": [],
      "source": [
        "# 15. Write a Python program that prints the content of a file and handles the case when the file is empty?\n",
        " # Open the file in read mode\n",
        "file_path = 'sample.txt'\n",
        "\n",
        "try:\n",
        "    with open(file_path, 'r') as file:\n",
        "        # Read the content of the file\n",
        "        file_content = file.read()\n",
        "\n",
        "        # Print the content\n",
        "        print(&quot;File Content:\\n&quot;, file_content)\n",
        "\n",
        "except FileNotFoundError:\n",
        "    print(f&quot;File '{file_path}' not found.&quot;)\n",
        "except Exception as e:\n",
        "    print(f&quot;An error occurred: {e}&quot;)"
      ]
    },
    {
      "cell_type": "code",
      "execution_count": null,
      "metadata": {
        "id": "Y-ZtYhs3Pqbk"
      },
      "outputs": [],
      "source": [
        "# 16 Demonstrate how to use memory profiling to check the memory usage of a small program?\n",
        "\n",
        " from memory_profiler import profile\n",
        "@profile\n",
        "\n",
        "def allocate_memory():\n",
        "    # Allocate a list with a range of numbers\n",
        "    a = [i for i in range(10000)]\n",
        "    # Allocate another list with squares of numbers\n",
        "    b = [i ** 2 for i in range(10000)]\n",
        "    return a, b\n",
        "\n",
        "if __name__ == \"__main__\":\n",
        "    allocate_memory()"
      ]
    },
    {
      "cell_type": "code",
      "execution_count": null,
      "metadata": {
        "id": "XwUGAND1P5MB"
      },
      "outputs": [],
      "source": [
        "# 17. # assign list\n",
        "l = ['Geeks','for','Geeks!']\n",
        "\n",
        "# open file\n",
        "with open('gfg.txt', 'w+') as f:\n",
        "\n",
        "    # write elements of list\n",
        "    for items in l:\n",
        "        f.write('%s\\n' %items)\n",
        "\n",
        "    print(\"File written successfully\")\n",
        "\n",
        "\n",
        "# close the file\n",
        "f.close()\n",
        "\n"
      ]
    },
    {
      "cell_type": "code",
      "execution_count": null,
      "metadata": {
        "id": "nJYJdxG0aBXF"
      },
      "outputs": [],
      "source": [
        "# 18. How would you implement a basic logging setup that logs to a file with rotation after 1MB?\n",
        "\n",
        "# Create a logger object\n",
        "logger = logging.getLogger('my_logger')\n",
        "logger.setLevel(logging.DEBUG)\n",
        "\n",
        "# Create a file handler to log messages to a file\n",
        "handler = logging.FileHandler('app.log')\n",
        "handler.setLevel(logging.DEBUG)\n",
        "\n",
        "# Define the log message format\n",
        "formatter = logging.Formatter('%(asctime)s - %(name)s - %(levelname)s - %(message)s')\n",
        "handler.setFormatter(formatter)\n",
        "\n",
        "# Attach the handler to the logger\n",
        "logger.addHandler(handler)\n",
        "\n",
        "# Log some messages\n",
        "logger.debug('This is a debug message')\n",
        "logger.info('This is an info message')\n",
        "\n"
      ]
    },
    {
      "cell_type": "code",
      "execution_count": null,
      "metadata": {
        "id": "TtgSx_iZcOPT"
      },
      "outputs": [],
      "source": [
        "# 19 Write a program that handles both IndexError and KeyError using a try-except block?\n",
        "# Creating a Dictionary\n",
        "subjects = {'Sree': 'Maths',\n",
        "\t\t\t'Ram': 'Biology',\n",
        "\t\t\t'Shyam': 'Science',\n",
        "\t\t\t'Abdul': 'Hindi'}\n",
        "\n",
        "# Printing the subject of Fharan\n",
        "print(subjects['Fharan'])\n"
      ]
    },
    {
      "cell_type": "code",
      "execution_count": null,
      "metadata": {
        "id": "BBc2i46SeEe_"
      },
      "outputs": [],
      "source": [
        "# 20. How would you open a file and read its contents using a context manager in Python?\n",
        "class File(object):\n",
        "    def __init__(self, file_name, method):\n",
        "        self.file_obj = open(file_name, method)\n",
        "    def __enter__(self):\n",
        "        return self.file_obj\n",
        "    def __exit__(self, type, value, traceback):\n",
        "        self.file_obj.close()"
      ]
    },
    {
      "cell_type": "code",
      "execution_count": null,
      "metadata": {
        "id": "TDABGRcpfQQ8"
      },
      "outputs": [],
      "source": [
        "# 21. Write a Python program that reads a file and prints the number of occurrences of a specific word?\n",
        "\n",
        "# Open the file in read mode\n",
        "text = open(\"sample.txt\", \"r\")\n",
        "\n",
        "# Create an empty dictionary\n",
        "d = dict()\n",
        "\n",
        "# Loop through each line of the file\n",
        "for line in text:\n",
        "\t# Remove the leading spaces and newline character\n",
        "\tline = line.strip()\n",
        "\n",
        "\t# Convert the characters in line to\n",
        "\t# lowercase to avoid case mismatch\n",
        "\tline = line.lower()\n",
        "\n",
        "\t# Split the line into words\n",
        "\twords = line.split(\" \")\n",
        "\n",
        "\n",
        "\t# Iterate over each word in line\n",
        "\tfor word in words:\n",
        "\t\t# Check if the word is already in dictionary\n",
        "\t\tif word in d:\n",
        "\t\t\t# Increment count of word by 1\n",
        "\t\t\td[word] = d[word] + 1\n",
        "\t\telse:\n",
        "\t\t\t# Add the word to dictionary with count 1\n",
        "\t\t\td[word] = 1\n",
        "\n",
        "# Print the contents of dictionary\n",
        "for key in list(d.keys()):\n",
        "\tprint(key, \":\", d[key])\n"
      ]
    },
    {
      "cell_type": "code",
      "execution_count": null,
      "metadata": {
        "id": "3sO_8ByVfcfP"
      },
      "outputs": [],
      "source": [
        "# 22. How can you check if a file is empty before attempting to read its contents?\n",
        "\n",
        "# import required libraries\n",
        "import os\n",
        "\n",
        "# file_path to check whether it is empty\n",
        "file_path = &quot;/Users/girish/Desktop/GFG Internship/input1.txt&quot;\n",
        "\n",
        "try:\n",
        "    # get the size of file\n",
        "    file_size = os.stat(file_path).st_size\n",
        "\n",
        "    # if file size is 0, it is empty\n",
        "    if (file_size == 0):\n",
        "        print(&quot;File is empty&quot;)\n",
        "    else:\n",
        "        print(&quot;File is NOT empty&quot;)\n",
        "\n",
        "# if file does not exist, then exception occurs\n",
        "except FileNotFoundError as e:\n",
        "    print(&quot;File NOT found&quot;)"
      ]
    },
    {
      "cell_type": "code",
      "execution_count": null,
      "metadata": {
        "id": "hHveo1Mnf1Uh"
      },
      "outputs": [],
      "source": [
        "# 23.Write a Python program that writes to a log file when an error occurs during file handling.?\n",
        "import logging\n",
        "\n",
        "# Configure logging with a custom format\n",
        "logging.basicConfig(filename=&quot;gfgnewlog.log&quot;, filemode=&quot;w&quot;, format=&quot;%(asctime)s - %(levelname)s - %(message)s&quot;)\n",
        "\n",
        "# Log a warning message\n",
        "logging.warning(&quot;This is a warning&quot;)\n",
        "\n",
        "# Create a logger instance\n",
        "logger = logging.getLogger(__name__)\n",
        "\n",
        "# Create a FileHandler to log to 'logs.log' file\n",
        "file_handler = logging.FileHandler('logs.log')\n",
        "\n",
        "# Add the FileHandler to the logger\n",
        "logger.addHandler(file_handler)\n",
        "\n",
        "# Log a warning message using the logger\n",
        "logger.warning(&quot;This is a test.&quot;)\n"
      ]
    },
    {
      "cell_type": "code",
      "execution_count": null,
      "metadata": {
        "id": "IryuhHOTf_2s"
      },
      "outputs": [],
      "source": []
    }
  ],
  "metadata": {
    "colab": {
      "provenance": [],
      "authorship_tag": "ABX9TyO99LsEJWibNpCfpy5cRIDh",
      "include_colab_link": true
    },
    "kernelspec": {
      "display_name": "Python 3",
      "name": "python3"
    },
    "language_info": {
      "name": "python"
    }
  },
  "nbformat": 4,
  "nbformat_minor": 0
}